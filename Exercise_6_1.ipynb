{
 "cells": [
  {
   "cell_type": "markdown",
   "id": "dfe5f582",
   "metadata": {},
   "source": [
    "# Assignment 6\n",
    "\n",
    "In this exercise you will get to work with a file that displays the COVID cases over a time period (February 2020 to 2021).\n",
    "\n",
    "To complete this exercise you will have to do the following:\n",
    "\n",
    "1) Load the file, only the following columns: Date, Sweden, Varmland, Stockholm\n",
    "\n",
    "2) Compute the average recorded cases for March for the whole Sweden, Varmland and Stockholm.\n",
    "\n",
    "3) Compute the monthly average for Sweden for all available months\n",
    "\n",
    "Do not forget to describe your code with comments and markdown cells."
   ]
  },
  {
   "cell_type": "code",
   "execution_count": null,
   "id": "1261e1bf",
   "metadata": {},
   "outputs": [],
   "source": []
  }
 ],
 "metadata": {
  "kernelspec": {
   "display_name": "geopy1",
   "language": "python",
   "name": "geopy1"
  },
  "language_info": {
   "codemirror_mode": {
    "name": "ipython",
    "version": 3
   },
   "file_extension": ".py",
   "mimetype": "text/x-python",
   "name": "python",
   "nbconvert_exporter": "python",
   "pygments_lexer": "ipython3",
   "version": "3.11.4"
  }
 },
 "nbformat": 4,
 "nbformat_minor": 5
}
