{
 "cells": [
  {
   "cell_type": "markdown",
   "id": "dfe5f582",
   "metadata": {},
   "source": [
    "# Assignment 6\n",
    "\n",
    "In this exercise you will get to work with a file that displays the COVID cases over a time period (February 2020 to 2021).\n",
    "\n",
    "To complete this exercise you will have to do the following:\n",
    "\n",
    "1) Load the file, only the following columns: Date, Sweden, Varmland, Stockholm\n",
    "\n",
    "2) Compute the average recorded cases for March for the whole Sweden, Varmland and Stockholm, respectively.\n",
    "\n",
    "3) Compute the monthly average for Sweden for all available months\n",
    "\n",
    "Do not forget to describe your code and results with comments and markdown cells.\n",
    "\n",
    "## Optional tasks\n",
    "\n",
    "4) Identify the peak day for COVID-19 cases in Sweden and in Stockholm.\n",
    "\n",
    "5) Determine the month with the highest number of cases in Sweden and compare it with Stockholm.\n"
   ]
  },
  {
   "cell_type": "markdown",
   "id": "a5a604e0-5dd3-4ca3-b512-ecd6edad7082",
   "metadata": {},
   "source": [
    "# Some tips\n",
    "\n",
    "1. Use pandas.read_csv to load the data. Pay attention to the correct delimiter (tab \\t in this case) to properly read the file.\n",
    "To select specific columns, use the usecols parameter in read_csv. Make sure the column names match exactly with those in the file.\n",
    "2.  Calculate the average using the .mean() function on the filtered data.\n",
    "\n",
    "3. Extract the month and year from the 'Date' column using dataframe['Date'].dt.month and dataframe['Date'].dt.year.\n",
    "Group the data by year and month with groupby, and then calculate the average."
   ]
  },
  {
   "cell_type": "markdown",
   "id": "a60e07a7-3ce6-4e54-8f00-54ae800dc376",
   "metadata": {},
   "source": [
    " ### This is an example of how you can work with dates alternatively than those presented at the lecture. It might be helpful for the exercise."
   ]
  },
  {
   "cell_type": "code",
   "execution_count": 5,
   "id": "0de83eb0-21a9-4fb9-a967-c14e6220b86e",
   "metadata": {},
   "outputs": [
    {
     "name": "stdout",
     "output_type": "stream",
     "text": [
      "        Date  Value  Year  Month  Day\n",
      "0 2020-01-01     10  2020      1    1\n",
      "1 2020-02-01     20  2020      2    1\n",
      "2 2020-03-01     30  2020      3    1\n",
      "3 2020-04-01     40  2020      4    1\n"
     ]
    }
   ],
   "source": [
    "\n",
    "import pandas as pd\n",
    "\n",
    "# Example DataFrame with a date column\n",
    "data = pd.DataFrame({\n",
    "    'Date': ['20200101', '20200201', '20200301', '20200401'],\n",
    "    'Value': [10, 20, 30, 40]\n",
    "})\n",
    "\n",
    "# Convert 'Date' from string to datetime format\n",
    "data['Date'] = pd.to_datetime(data['Date'], format='%Y%m%d')\n",
    "\n",
    "# Extracting year, month, and day from the 'Date' column\n",
    "data['Year'] = data['Date'].dt.year\n",
    "data['Month'] = data['Date'].dt.month\n",
    "data['Day'] = data['Date'].dt.day\n",
    "\n",
    "# Display the DataFrame with the new columns\n",
    "print(data)\n"
   ]
  },
  {
   "cell_type": "code",
   "execution_count": null,
   "id": "696fe301-b71c-4b4d-beed-2d30e003564d",
   "metadata": {},
   "outputs": [],
   "source": []
  }
 ],
 "metadata": {
  "kernelspec": {
   "display_name": "Python 3 (ipykernel)",
   "language": "python",
   "name": "python3"
  },
  "language_info": {
   "codemirror_mode": {
    "name": "ipython",
    "version": 3
   },
   "file_extension": ".py",
   "mimetype": "text/x-python",
   "name": "python",
   "nbconvert_exporter": "python",
   "pygments_lexer": "ipython3",
   "version": "3.9.7"
  }
 },
 "nbformat": 4,
 "nbformat_minor": 5
}
